{
 "cells": [
  {
   "cell_type": "code",
   "execution_count": 1,
   "metadata": {},
   "outputs": [],
   "source": [
    "import requests\n",
    "\n",
    "url = \"https://raw.githubusercontent.com/karpathy/char-rnn/master/data/tinyshakespeare/input.txt\"\n",
    "r = requests.get(url)\n",
    "text = r.text"
   ]
  },
  {
   "cell_type": "code",
   "execution_count": 2,
   "metadata": {},
   "outputs": [],
   "source": [
    "chars = sorted(list(set(text)))\n",
    "vocab_size = len(chars)\n",
    "char2idx = {ch:i for i,ch in enumerate(chars)}\n",
    "idx2char = {i:ch for i,ch in enumerate(chars)}\n",
    "\n",
    "encode = lambda x: [char2idx[ch] for ch in x]\n",
    "decode = lambda x: ''.join([idx2char[idx] for idx in x])"
   ]
  },
  {
   "cell_type": "code",
   "execution_count": 3,
   "metadata": {},
   "outputs": [],
   "source": [
    "import torch\n",
    "import numpy as np\n",
    "\n",
    "data = encode(text)\n",
    "data = torch.tensor(data, dtype=torch.int64)"
   ]
  },
  {
   "cell_type": "code",
   "execution_count": 4,
   "metadata": {},
   "outputs": [],
   "source": [
    "split = 0.8  # train/test split\n",
    "block_size = 8  # context length\n",
    "batch_size = 4  # number of sequences handled in parallel"
   ]
  },
  {
   "cell_type": "code",
   "execution_count": 5,
   "metadata": {},
   "outputs": [],
   "source": [
    "train_data = data[:int(len(data)*split)]\n",
    "val_data = data[int(len(data)*split):]"
   ]
  },
  {
   "cell_type": "code",
   "execution_count": 6,
   "metadata": {},
   "outputs": [
    {
     "name": "stdout",
     "output_type": "stream",
     "text": [
      "When input tensor([18]), the target is 47\n",
      "When input tensor([18, 47]), the target is 56\n",
      "When input tensor([18, 47, 56]), the target is 57\n",
      "When input tensor([18, 47, 56, 57]), the target is 58\n",
      "When input tensor([18, 47, 56, 57, 58]), the target is 1\n",
      "When input tensor([18, 47, 56, 57, 58,  1]), the target is 15\n",
      "When input tensor([18, 47, 56, 57, 58,  1, 15]), the target is 47\n",
      "When input tensor([18, 47, 56, 57, 58,  1, 15, 47]), the target is 58\n"
     ]
    }
   ],
   "source": [
    "x = train_data[:block_size]\n",
    "y = train_data[1:block_size+1]\n",
    "\n",
    "for t in range(block_size):\n",
    "    context = x[:t+1]\n",
    "    target = y[t]\n",
    "    print(f\"When input {context}, the target is {target}\")"
   ]
  },
  {
   "cell_type": "code",
   "execution_count": 7,
   "metadata": {},
   "outputs": [
    {
     "name": "stdout",
     "output_type": "stream",
     "text": [
      "inputs:\n",
      "torch.Size([4, 8])\n",
      "tensor([[58, 63,  8,  0,  0, 19, 24, 27],\n",
      "        [39, 59, 45, 46, 58,  1, 46, 43],\n",
      "        [49, 43, 57,  1, 53, 50, 42,  1],\n",
      "        [52, 41, 47, 43, 52, 58,  1, 56]])\n",
      "targets:\n",
      "torch.Size([4, 8])\n",
      "tensor([[63,  8,  0,  0, 19, 24, 27, 33],\n",
      "        [59, 45, 46, 58,  1, 46, 43,  1],\n",
      "        [43, 57,  1, 53, 50, 42,  1, 46],\n",
      "        [41, 47, 43, 52, 58,  1, 56, 47]])\n",
      "----\n",
      "when input is [58] the target: 63\n",
      "when input is [58, 63] the target: 8\n",
      "when input is [58, 63, 8] the target: 0\n",
      "when input is [58, 63, 8, 0] the target: 0\n",
      "when input is [58, 63, 8, 0, 0] the target: 19\n",
      "when input is [58, 63, 8, 0, 0, 19] the target: 24\n",
      "when input is [58, 63, 8, 0, 0, 19, 24] the target: 27\n",
      "when input is [58, 63, 8, 0, 0, 19, 24, 27] the target: 33\n",
      "when input is [39] the target: 59\n",
      "when input is [39, 59] the target: 45\n",
      "when input is [39, 59, 45] the target: 46\n",
      "when input is [39, 59, 45, 46] the target: 58\n",
      "when input is [39, 59, 45, 46, 58] the target: 1\n",
      "when input is [39, 59, 45, 46, 58, 1] the target: 46\n",
      "when input is [39, 59, 45, 46, 58, 1, 46] the target: 43\n",
      "when input is [39, 59, 45, 46, 58, 1, 46, 43] the target: 1\n",
      "when input is [49] the target: 43\n",
      "when input is [49, 43] the target: 57\n",
      "when input is [49, 43, 57] the target: 1\n",
      "when input is [49, 43, 57, 1] the target: 53\n",
      "when input is [49, 43, 57, 1, 53] the target: 50\n",
      "when input is [49, 43, 57, 1, 53, 50] the target: 42\n",
      "when input is [49, 43, 57, 1, 53, 50, 42] the target: 1\n",
      "when input is [49, 43, 57, 1, 53, 50, 42, 1] the target: 46\n",
      "when input is [52] the target: 41\n",
      "when input is [52, 41] the target: 47\n",
      "when input is [52, 41, 47] the target: 43\n",
      "when input is [52, 41, 47, 43] the target: 52\n",
      "when input is [52, 41, 47, 43, 52] the target: 58\n",
      "when input is [52, 41, 47, 43, 52, 58] the target: 1\n",
      "when input is [52, 41, 47, 43, 52, 58, 1] the target: 56\n",
      "when input is [52, 41, 47, 43, 52, 58, 1, 56] the target: 47\n"
     ]
    }
   ],
   "source": [
    "torch.manual_seed(1337)\n",
    "\n",
    "def get_batch(split):\n",
    "    # generate a small batch of data of inputs x and targets y\n",
    "    data = train_data if split == 'train' else val_data\n",
    "    ix = torch.randint(len(data) - block_size, (batch_size,))\n",
    "    x = torch.stack([data[i:i+block_size] for i in ix])\n",
    "    y = torch.stack([data[i+1:i+block_size+1] for i in ix])\n",
    "    return x, y\n",
    "\n",
    "xb, yb = get_batch('train')\n",
    "print('inputs:')\n",
    "print(xb.shape)\n",
    "print(xb)\n",
    "print('targets:')\n",
    "print(yb.shape)\n",
    "print(yb)\n",
    "\n",
    "print('----')\n",
    "\n",
    "for b in range(batch_size): # batch dimension\n",
    "    for t in range(block_size): # time dimension\n",
    "        context = xb[b, :t+1]\n",
    "        target = yb[b,t]\n",
    "        print(f\"when input is {context.tolist()} the target: {target}\")"
   ]
  },
  {
   "cell_type": "code",
   "execution_count": 8,
   "metadata": {},
   "outputs": [
    {
     "name": "stdout",
     "output_type": "stream",
     "text": [
      "tensor([[58, 63,  8,  0,  0, 19, 24, 27],\n",
      "        [39, 59, 45, 46, 58,  1, 46, 43],\n",
      "        [49, 43, 57,  1, 53, 50, 42,  1],\n",
      "        [52, 41, 47, 43, 52, 58,  1, 56]])\n"
     ]
    }
   ],
   "source": [
    "print(xb)"
   ]
  },
  {
   "cell_type": "code",
   "execution_count": 13,
   "metadata": {},
   "outputs": [
    {
     "name": "stdout",
     "output_type": "stream",
     "text": [
      "torch.Size([32, 65])\n",
      "tensor(4.6693, grad_fn=<NllLossBackward0>)\n",
      "\n",
      "ZbaKxi3 R?bhdre3;xB&UlM\n",
      ";'ypiBuVDnukTbxCYdPl!o&bGAp-:ZXXU.Hwt-nyyEt.WBGjGjyqaJw3zg:Oaaf,EbY&nB3bqReb\n"
     ]
    }
   ],
   "source": [
    "import torch.nn as nn\n",
    "from torch.nn import functional as F\n",
    "\n",
    "class BigramLM(nn.Module):\n",
    "    def __init__(self, vocab_size):\n",
    "        super().__init__()  # functionality of nn.Module\n",
    "        self.token_embedding_table = nn.Embedding(vocab_size, vocab_size)  # each token directly reads off the logits for the next token from a lookup table\n",
    "    \n",
    "    def forward(self, idx, targets=None):\n",
    "        # idx and targets are both (B, T) integer tensors\n",
    "        logits = self.token_embedding_table(idx)  # (B atch * T ime * (C hannels = V ocabulary size))\n",
    "\n",
    "        if targets is None:\n",
    "            loss = None\n",
    "        else:\n",
    "            B, T, C = logits.shape\n",
    "            logits = logits.view(B*T, C)\n",
    "            targets = targets.view(B*T)\n",
    "            loss = F.cross_entropy(logits, targets)\n",
    "        \n",
    "        return logits, loss\n",
    "    \n",
    "    def generate(self, idx, max_new_tokens):\n",
    "        # idx is a (B, T) array of indices in the current context\n",
    "        for _ in range(max_new_tokens):\n",
    "            logits, loss = self(idx)  # get the predictions\n",
    "            logits = logits[:, -1, :]  # get the logits for the last token\n",
    "            probs = F.softmax(logits, dim=1)  # convert to probabilities\n",
    "            idx_next = torch.multinomial(probs, 1)  # sample from the distribution - (B, 1) tensor\n",
    "            idx = torch.cat([idx, idx_next], dim=1)  # append the new token to the context\n",
    "        return idx\n",
    "    \n",
    "m = BigramLM(vocab_size)\n",
    "logits, loss = m(xb, yb)\n",
    "print(logits.shape)\n",
    "print(loss)\n",
    "\n",
    "print(decode(m.generate(idx=torch.zeros((1, 1), dtype=torch.long), max_new_tokens=100)[0].tolist()))"
   ]
  },
  {
   "cell_type": "code",
   "execution_count": null,
   "metadata": {},
   "outputs": [],
   "source": []
  }
 ],
 "metadata": {
  "kernelspec": {
   "display_name": ".venv",
   "language": "python",
   "name": "python3"
  },
  "language_info": {
   "codemirror_mode": {
    "name": "ipython",
    "version": 3
   },
   "file_extension": ".py",
   "mimetype": "text/x-python",
   "name": "python",
   "nbconvert_exporter": "python",
   "pygments_lexer": "ipython3",
   "version": "3.8.16"
  },
  "orig_nbformat": 4
 },
 "nbformat": 4,
 "nbformat_minor": 2
}
